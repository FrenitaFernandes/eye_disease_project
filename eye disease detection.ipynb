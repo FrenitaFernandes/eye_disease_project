{
  "nbformat": 4,
  "nbformat_minor": 0,
  "metadata": {
    "colab": {
      "provenance": [],
      "authorship_tag": "ABX9TyPDwEsZ40RoYqGuUh7c1xf+",
      "include_colab_link": true
    },
    "kernelspec": {
      "name": "python3",
      "display_name": "Python 3"
    },
    "language_info": {
      "name": "python"
    }
  },
  "cells": [
    {
      "cell_type": "markdown",
      "metadata": {
        "id": "view-in-github",
        "colab_type": "text"
      },
      "source": [
        "<a href=\"https://colab.research.google.com/github/FrenitaFernandes/eye_disease_project/blob/main/eye%20disease%20detection.ipynb\" target=\"_parent\"><img src=\"https://colab.research.google.com/assets/colab-badge.svg\" alt=\"Open In Colab\"/></a>"
      ]
    },
    {
      "cell_type": "code",
      "execution_count": 1,
      "metadata": {
        "id": "h-fPtMSHFMPx"
      },
      "outputs": [],
      "source": [
        "# 1. Import necessary libraries\n",
        "import tensorflow as tf\n",
        "import zipfile\n",
        "import os\n"
      ]
    },
    {
      "cell_type": "code",
      "source": [
        "# 2. Upload ZIP file (shows a file picker)\n",
        "from IPython.display import display\n",
        "from ipywidgets import FileUpload\n"
      ],
      "metadata": {
        "id": "bvrXR2jINg_0"
      },
      "execution_count": 2,
      "outputs": []
    },
    {
      "cell_type": "code",
      "source": [],
      "metadata": {
        "colab": {
          "base_uri": "https://localhost:8080/"
        },
        "id": "lLCTCs5DRDhX",
        "outputId": "48b47ed6-7aac-4cab-ed03-af52b5f8fb1f"
      },
      "execution_count": 6,
      "outputs": [
        {
          "output_type": "stream",
          "name": "stdout",
          "text": [
            "Mounted at /content/drive\n"
          ]
        }
      ]
    },
    {
      "cell_type": "code",
      "source": [
        "import zipfile\n",
        "\n",
        "zip_path = '/content/drive/MyDrive/Frenita (1)/eyeimage.zip'  # Path to your zip file in Drive\n",
        "extract_path = '/content/eyeimage'  # Where to extract in Colab\n",
        "\n",
        "with zipfile.ZipFile(zip_path, 'r') as zip_ref:\n",
        "    zip_ref.extractall(extract_path)\n",
        "\n",
        "print(\"Extraction complete.\")"
      ],
      "metadata": {
        "id": "2KO_ZzONSM6c",
        "outputId": "ea125489-7d45-4374-a4e4-501d7911228d",
        "colab": {
          "base_uri": "https://localhost:8080/"
        }
      },
      "execution_count": 8,
      "outputs": [
        {
          "output_type": "stream",
          "name": "stdout",
          "text": [
            "Extraction complete.\n"
          ]
        }
      ]
    },
    {
      "cell_type": "code",
      "source": [
        "from PIL import Image\n",
        "import os\n",
        "\n",
        "def clean_image_folder(folder):\n",
        "    removed = 0\n",
        "    for root, dirs, files in os.walk(folder):\n",
        "        for file in files:\n",
        "            file_path = os.path.join(root, file)\n",
        "            try:\n",
        "                with Image.open(file_path) as img:\n",
        "                    img.verify()\n",
        "            except Exception:\n",
        "                os.remove(file_path)\n",
        "                removed += 1\n",
        "    print(f\"Removed {removed} non-image files.\")\n",
        "\n",
        "clean_image_folder('your_folder_path')"
      ],
      "metadata": {
        "id": "xZ9uq21FUjns",
        "outputId": "27b92130-9b85-4d5e-a191-2737c0bc016b",
        "colab": {
          "base_uri": "https://localhost:8080/"
        }
      },
      "execution_count": 10,
      "outputs": [
        {
          "output_type": "stream",
          "name": "stdout",
          "text": [
            "Removed 0 non-image files.\n"
          ]
        }
      ]
    },
    {
      "cell_type": "code",
      "source": [
        "import tensorflow as tf\n",
        "\n",
        "dataset = tf.keras.preprocessing.image_dataset_from_directory(\n",
        "    'eyeimage',\n",
        "    image_size=(224, 224),\n",
        "    batch_size=32,\n",
        "    label_mode='int',\n",
        "    shuffle=True\n",
        ")"
      ],
      "metadata": {
        "id": "RrgUD06-WA1F",
        "outputId": "1d0cd982-c710-40b2-8466-7609795e7e3a",
        "colab": {
          "base_uri": "https://localhost:8080/"
        }
      },
      "execution_count": 11,
      "outputs": [
        {
          "output_type": "stream",
          "name": "stdout",
          "text": [
            "Found 4217 files belonging to 1 classes.\n"
          ]
        }
      ]
    }
  ]
}