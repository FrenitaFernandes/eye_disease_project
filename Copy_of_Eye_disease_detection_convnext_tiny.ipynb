{
  "cells": [
    {
      "cell_type": "markdown",
      "metadata": {
        "id": "view-in-github",
        "colab_type": "text"
      },
      "source": [
        "<a href=\"https://colab.research.google.com/github/FrenitaFernandes/eye_disease_project/blob/main/Copy_of_Eye_disease_detection_convnext_tiny.ipynb\" target=\"_parent\"><img src=\"https://colab.research.google.com/assets/colab-badge.svg\" alt=\"Open In Colab\"/></a>"
      ]
    },
    {
      "cell_type": "code",
      "execution_count": null,
      "metadata": {
        "id": "ufR4eBOD7o1x"
      },
      "outputs": [],
      "source": [
        "# Step 1: Import All Necessary Libraries\n",
        "# ======================================================================================\n",
        "import os\n",
        "import zipfile\n",
        "import shutil\n",
        "import glob\n",
        "import cv2\n",
        "import numpy as np\n",
        "import torch\n",
        "import torch.nn as nn\n",
        "import torch.optim as optim\n",
        "from torch.utils.data import Dataset, DataLoader\n",
        "import albumentations as A\n",
        "from albumentations.pytorch import ToTensorV2\n",
        "from tqdm import tqdm\n",
        "from sklearn.model_selection import train_test_split\n",
        "from torchsummary import summary\n",
        "from google.colab import drive\n",
        "import timm\n"
      ]
    },
    {
      "cell_type": "code",
      "execution_count": null,
      "metadata": {
        "colab": {
          "base_uri": "https://localhost:8080/"
        },
        "id": "OGZ2ag2v73gh",
        "outputId": "bd6a98c1-b461-468e-855c-2aaa1b654e5a"
      },
      "outputs": [
        {
          "name": "stdout",
          "output_type": "stream",
          "text": [
            "Mounted at /content/drive\n"
          ]
        }
      ],
      "source": [
        "# ======================================================================================\n",
        "# Step 2: Mount Drive and Extract Dataset\n",
        "# ======================================================================================\n",
        "# Mount your Google Drive\n",
        "drive.mount('/content/drive')\n",
        "\n"
      ]
    },
    {
      "cell_type": "code",
      "execution_count": null,
      "metadata": {
        "colab": {
          "base_uri": "https://localhost:8080/"
        },
        "id": "9Qn8c8Fs9efO",
        "outputId": "a9029895-fc3f-4a80-84b3-62aa43ccd50e"
      },
      "outputs": [
        {
          "name": "stdout",
          "output_type": "stream",
          "text": [
            "Extracting /content/drive/MyDrive/Frenita (1)/eyeimage.zip to /content/eye_dataset...\n",
            "Extraction complete!\n"
          ]
        }
      ],
      "source": [
        "zip_path = '/content/drive/MyDrive/Frenita (1)/eyeimage.zip'\n",
        "extract_path = '/content/eye_dataset'\n",
        "\n",
        "# Clean up previous extractions if they exist\n",
        "if os.path.exists(extract_path):\n",
        "    shutil.rmtree(extract_path)\n",
        "os.makedirs(extract_path, exist_ok=True)\n",
        "\n",
        "print(f\"Extracting {zip_path} to {extract_path}...\")\n",
        "with zipfile.ZipFile(zip_path, 'r') as zip_ref:\n",
        "    zip_ref.extractall(extract_path)\n",
        "print(\"Extraction complete!\")\n"
      ]
    },
    {
      "cell_type": "code",
      "execution_count": null,
      "metadata": {
        "colab": {
          "base_uri": "https://localhost:8080/"
        },
        "id": "767VuNuu98PK",
        "outputId": "b05ab98b-dc1f-4811-af6f-23ffb5fa8553"
      },
      "outputs": [
        {
          "name": "stdout",
          "output_type": "stream",
          "text": [
            "\n",
            "Reorganizing extracted files...\n",
            " Files moved to the correct directory.\n",
            "Dataset path has been set to: /content/eye_dataset\n",
            "\n",
            "Verifying extracted class folders...\n",
            " Success! Found 4 class folders:\n",
            "  - cataract\n",
            "  - diabetic_retinopathy\n",
            "  - glaucoma\n",
            "  - normal\n"
          ]
        }
      ],
      "source": [
        "# ======================================================================================\n",
        "# Step 3: Reorganize Files and Verify\n",
        "# ======================================================================================\n",
        "print(\"\\nReorganizing extracted files...\")\n",
        "source_folder = os.path.join(extract_path, 'eyeimage')\n",
        "\n",
        "# Move class folders (cataract, normal, etc.) up one level\n",
        "if os.path.isdir(source_folder):\n",
        "    for item_name in os.listdir(source_folder):\n",
        "        shutil.move(os.path.join(source_folder, item_name), extract_path)\n",
        "    os.rmdir(source_folder)\n",
        "    print(\" Files moved to the correct directory.\")\n",
        "else:\n",
        "    print(\" Warning: 'eyeimage' folder not found. Assuming files are already correctly placed.\")\n",
        "\n",
        "data_dir = extract_path\n",
        "print(f\"Dataset path has been set to: {data_dir}\")\n",
        "\n",
        "# Verify that the class folders are now directly inside extract_path\n",
        "print(\"\\nVerifying extracted class folders...\")\n",
        "try:\n",
        "    class_folders = [d for d in os.listdir(data_dir) if os.path.isdir(os.path.join(data_dir, d))]\n",
        "    if class_folders:\n",
        "        print(f\" Success! Found {len(class_folders)} class folders:\")\n",
        "        for folder_name in sorted(class_folders):\n",
        "            print(f\"  - {folder_name}\")\n",
        "    else:\n",
        "        print(\" Warning: No class folders were found at the specified path.\")\n",
        "except FileNotFoundError:\n",
        "    print(f\" Error: The directory '{data_dir}' was not found.\")\n"
      ]
    },
    {
      "cell_type": "code",
      "execution_count": null,
      "metadata": {
        "id": "3nGKE3Z08cwd"
      },
      "outputs": [],
      "source": [
        "# Step 4: Install Required Libraries\n",
        "# ======================================================================================\n",
        "!pip install -q timm albumentations\n",
        "\n"
      ]
    },
    {
      "cell_type": "code",
      "execution_count": null,
      "metadata": {
        "id": "R-oHB2nP8pSf"
      },
      "outputs": [],
      "source": [
        "# Step 5: Intelligent Cropping and Custom PyTorch Dataset\n",
        "# ======================================================================================\n",
        "def crop_image_from_gray(img):\n",
        "    if img is None: return None\n",
        "    gray_img = cv2.cvtColor(img, cv2.COLOR_RGB2GRAY)\n",
        "    gray_img = cv2.GaussianBlur(gray_img, (5, 5), 0)\n",
        "    _, thresh = cv2.threshold(gray_img, 45, 255, cv2.THRESH_BINARY)\n",
        "    contours, _ = cv2.findContours(thresh, cv2.RETR_EXTERNAL, cv2.CHAIN_APPROX_SIMPLE)\n",
        "    if not contours: return img\n",
        "    c = max(contours, key=cv2.contourArea)\n",
        "    x, y, w, h = cv2.boundingRect(c)\n",
        "    return img[y:y+h, x:x+w]\n",
        "\n",
        "class EyeDiseaseDataset(Dataset):\n",
        "    def __init__(self, file_paths, labels, transform=None):\n",
        "        self.file_paths = file_paths\n",
        "        self.labels = labels\n",
        "        self.transform = transform\n",
        "\n",
        "    def __len__(self):\n",
        "        return len(self.file_paths)\n",
        "\n",
        "    def __getitem__(self, idx):\n",
        "        img_path = self.file_paths[idx]\n",
        "        image = cv2.imread(img_path)\n",
        "        image = cv2.cvtColor(image, cv2.COLOR_BGR2RGB)\n",
        "        image = crop_image_from_gray(image)\n",
        "        if self.transform:\n",
        "            image = self.transform(image=image)['image']\n",
        "        label = self.labels[idx]\n",
        "        return image, torch.tensor(label, dtype=torch.long)\n"
      ]
    },
    {
      "cell_type": "code",
      "execution_count": null,
      "metadata": {
        "colab": {
          "base_uri": "https://localhost:8080/"
        },
        "id": "vrjSYCy7_bTA",
        "outputId": "a37cb607-0218-4c09-c388-916cc29a509f"
      },
      "outputs": [
        {
          "name": "stdout",
          "output_type": "stream",
          "text": [
            "\n",
            "Found 3119 images belonging to 4 classes.\n"
          ]
        }
      ],
      "source": [
        "# Step 6: Prepare Data and Define Augmentations\n",
        "# ======================================================================================\n",
        "image_paths = glob.glob(os.path.join(data_dir, '*', '*.png')) + glob.glob(os.path.join(data_dir, '*', '*.jpg'))\n",
        "class_names = sorted([d.name for d in os.scandir(data_dir) if d.is_dir()])\n",
        "class_to_idx = {name: i for i, name in enumerate(class_names)}\n",
        "labels = [class_to_idx[os.path.basename(os.path.dirname(p))] for p in image_paths]\n",
        "\n",
        "print(f\"\\nFound {len(image_paths)} images belonging to {len(class_names)} classes.\")\n",
        "\n",
        "train_paths, val_paths, train_labels, val_labels = train_test_split(\n",
        "    image_paths, labels, test_size=0.2, random_state=42, stratify=labels\n",
        ")\n",
        "\n",
        "IMG_SIZE = 224\n",
        "train_transform = A.Compose([\n",
        "    A.Resize(IMG_SIZE, IMG_SIZE),\n",
        "    A.HorizontalFlip(p=0.5),\n",
        "    A.Rotate(limit=15, p=0.5),\n",
        "    A.RandomBrightnessContrast(p=0.3),\n",
        "    A.Normalize(mean=[0.485, 0.456, 0.406], std=[0.229, 0.224, 0.225]),\n",
        "    ToTensorV2()\n",
        "])\n",
        "val_transform = A.Compose([\n",
        "    A.Resize(IMG_SIZE, IMG_SIZE),\n",
        "    A.Normalize(mean=[0.485, 0.456, 0.406], std=[0.229, 0.224, 0.225]),\n",
        "    ToTensorV2()\n",
        "])\n",
        "\n",
        "train_dataset = EyeDiseaseDataset(train_paths, train_labels, transform=train_transform)\n",
        "val_dataset = EyeDiseaseDataset(val_paths, val_labels, transform=val_transform)\n",
        "\n",
        "BATCH_SIZE = 32\n",
        "# --- CPU Change: pin_memory is set to False ---\n",
        "train_loader = DataLoader(train_dataset, batch_size=BATCH_SIZE, shuffle=True, num_workers=2, pin_memory=False)\n",
        "val_loader = DataLoader(val_dataset, batch_size=BATCH_SIZE, shuffle=False, num_workers=2, pin_memory=False)\n"
      ]
    },
    {
      "cell_type": "code",
      "execution_count": null,
      "metadata": {
        "colab": {
          "base_uri": "https://localhost:8080/",
          "height": 1000,
          "referenced_widgets": [
            "22e4632e98a240b5b3299da97d2e97d6",
            "707832e0c6ae472fa072506504f79c05",
            "6a70a79da2784d60a26661345173b20e",
            "3f01f14ad3e449e7b6c044cb0e974853",
            "3cbfc0335a614f4990354d239aaf2577",
            "e431bbdde65e4c2a825e8af2533fb53b",
            "3e015104615840a89aae709dfffda699",
            "4505a80167424983b34602c04b6f1eca",
            "82a01604b4304a6cb9c919a27ed4a56a",
            "0175b76643dc45cb9fc0cf86237ac422",
            "0869c2ff1f3147e6b47ef3a346b9923f"
          ]
        },
        "id": "R6APi0mA_iEI",
        "outputId": "c2d953c7-a3e7-466a-dd95-7397bed1fa3b"
      },
      "outputs": [
        {
          "name": "stderr",
          "output_type": "stream",
          "text": [
            "/usr/local/lib/python3.12/dist-packages/huggingface_hub/utils/_auth.py:94: UserWarning: \n",
            "The secret `HF_TOKEN` does not exist in your Colab secrets.\n",
            "To authenticate with the Hugging Face Hub, create a token in your settings tab (https://huggingface.co/settings/tokens), set it as secret in your Google Colab and restart your session.\n",
            "You will be able to reuse this secret in all of your notebooks.\n",
            "Please note that authentication is recommended but still optional to access public models or datasets.\n",
            "  warnings.warn(\n"
          ]
        },
        {
          "data": {
            "application/vnd.jupyter.widget-view+json": {
              "model_id": "22e4632e98a240b5b3299da97d2e97d6",
              "version_major": 2,
              "version_minor": 0
            },
            "text/plain": [
              "model.safetensors:   0%|          | 0.00/114M [00:00<?, ?B/s]"
            ]
          },
          "metadata": {},
          "output_type": "display_data"
        },
        {
          "name": "stdout",
          "output_type": "stream",
          "text": [
            "\n",
            "Model will be trained on: cpu\n",
            "Model Summary:\n",
            "----------------------------------------------------------------\n",
            "        Layer (type)               Output Shape         Param #\n",
            "================================================================\n",
            "            Conv2d-1           [-1, 96, 56, 56]           4,704\n",
            "       LayerNorm2d-2           [-1, 96, 56, 56]             192\n",
            "          Identity-3           [-1, 96, 56, 56]               0\n",
            "            Conv2d-4           [-1, 96, 56, 56]           4,800\n",
            "         LayerNorm-5           [-1, 56, 56, 96]             192\n",
            "            Linear-6          [-1, 56, 56, 384]          37,248\n",
            "              GELU-7          [-1, 56, 56, 384]               0\n",
            "           Dropout-8          [-1, 56, 56, 384]               0\n",
            "          Identity-9          [-1, 56, 56, 384]               0\n",
            "           Linear-10           [-1, 56, 56, 96]          36,960\n",
            "          Dropout-11           [-1, 56, 56, 96]               0\n",
            "              Mlp-12           [-1, 56, 56, 96]               0\n",
            "         Identity-13           [-1, 96, 56, 56]               0\n",
            "         Identity-14           [-1, 96, 56, 56]               0\n",
            "    ConvNeXtBlock-15           [-1, 96, 56, 56]               0\n",
            "           Conv2d-16           [-1, 96, 56, 56]           4,800\n",
            "        LayerNorm-17           [-1, 56, 56, 96]             192\n",
            "           Linear-18          [-1, 56, 56, 384]          37,248\n",
            "             GELU-19          [-1, 56, 56, 384]               0\n",
            "          Dropout-20          [-1, 56, 56, 384]               0\n",
            "         Identity-21          [-1, 56, 56, 384]               0\n",
            "           Linear-22           [-1, 56, 56, 96]          36,960\n",
            "          Dropout-23           [-1, 56, 56, 96]               0\n",
            "              Mlp-24           [-1, 56, 56, 96]               0\n",
            "         Identity-25           [-1, 96, 56, 56]               0\n",
            "         Identity-26           [-1, 96, 56, 56]               0\n",
            "    ConvNeXtBlock-27           [-1, 96, 56, 56]               0\n",
            "           Conv2d-28           [-1, 96, 56, 56]           4,800\n",
            "        LayerNorm-29           [-1, 56, 56, 96]             192\n",
            "           Linear-30          [-1, 56, 56, 384]          37,248\n",
            "             GELU-31          [-1, 56, 56, 384]               0\n",
            "          Dropout-32          [-1, 56, 56, 384]               0\n",
            "         Identity-33          [-1, 56, 56, 384]               0\n",
            "           Linear-34           [-1, 56, 56, 96]          36,960\n",
            "          Dropout-35           [-1, 56, 56, 96]               0\n",
            "              Mlp-36           [-1, 56, 56, 96]               0\n",
            "         Identity-37           [-1, 96, 56, 56]               0\n",
            "         Identity-38           [-1, 96, 56, 56]               0\n",
            "    ConvNeXtBlock-39           [-1, 96, 56, 56]               0\n",
            "    ConvNeXtStage-40           [-1, 96, 56, 56]               0\n",
            "      LayerNorm2d-41           [-1, 96, 56, 56]             192\n",
            "           Conv2d-42          [-1, 192, 28, 28]          73,920\n",
            "           Conv2d-43          [-1, 192, 28, 28]           9,600\n",
            "        LayerNorm-44          [-1, 28, 28, 192]             384\n",
            "           Linear-45          [-1, 28, 28, 768]         148,224\n",
            "             GELU-46          [-1, 28, 28, 768]               0\n",
            "          Dropout-47          [-1, 28, 28, 768]               0\n",
            "         Identity-48          [-1, 28, 28, 768]               0\n",
            "           Linear-49          [-1, 28, 28, 192]         147,648\n",
            "          Dropout-50          [-1, 28, 28, 192]               0\n",
            "              Mlp-51          [-1, 28, 28, 192]               0\n",
            "         Identity-52          [-1, 192, 28, 28]               0\n",
            "         Identity-53          [-1, 192, 28, 28]               0\n",
            "    ConvNeXtBlock-54          [-1, 192, 28, 28]               0\n",
            "           Conv2d-55          [-1, 192, 28, 28]           9,600\n",
            "        LayerNorm-56          [-1, 28, 28, 192]             384\n",
            "           Linear-57          [-1, 28, 28, 768]         148,224\n",
            "             GELU-58          [-1, 28, 28, 768]               0\n",
            "          Dropout-59          [-1, 28, 28, 768]               0\n",
            "         Identity-60          [-1, 28, 28, 768]               0\n",
            "           Linear-61          [-1, 28, 28, 192]         147,648\n",
            "          Dropout-62          [-1, 28, 28, 192]               0\n",
            "              Mlp-63          [-1, 28, 28, 192]               0\n",
            "         Identity-64          [-1, 192, 28, 28]               0\n",
            "         Identity-65          [-1, 192, 28, 28]               0\n",
            "    ConvNeXtBlock-66          [-1, 192, 28, 28]               0\n",
            "           Conv2d-67          [-1, 192, 28, 28]           9,600\n",
            "        LayerNorm-68          [-1, 28, 28, 192]             384\n",
            "           Linear-69          [-1, 28, 28, 768]         148,224\n",
            "             GELU-70          [-1, 28, 28, 768]               0\n",
            "          Dropout-71          [-1, 28, 28, 768]               0\n",
            "         Identity-72          [-1, 28, 28, 768]               0\n",
            "           Linear-73          [-1, 28, 28, 192]         147,648\n",
            "          Dropout-74          [-1, 28, 28, 192]               0\n",
            "              Mlp-75          [-1, 28, 28, 192]               0\n",
            "         Identity-76          [-1, 192, 28, 28]               0\n",
            "         Identity-77          [-1, 192, 28, 28]               0\n",
            "    ConvNeXtBlock-78          [-1, 192, 28, 28]               0\n",
            "    ConvNeXtStage-79          [-1, 192, 28, 28]               0\n",
            "      LayerNorm2d-80          [-1, 192, 28, 28]             384\n",
            "           Conv2d-81          [-1, 384, 14, 14]         295,296\n",
            "           Conv2d-82          [-1, 384, 14, 14]          19,200\n",
            "        LayerNorm-83          [-1, 14, 14, 384]             768\n",
            "           Linear-84         [-1, 14, 14, 1536]         591,360\n",
            "             GELU-85         [-1, 14, 14, 1536]               0\n",
            "          Dropout-86         [-1, 14, 14, 1536]               0\n",
            "         Identity-87         [-1, 14, 14, 1536]               0\n",
            "           Linear-88          [-1, 14, 14, 384]         590,208\n",
            "          Dropout-89          [-1, 14, 14, 384]               0\n",
            "              Mlp-90          [-1, 14, 14, 384]               0\n",
            "         Identity-91          [-1, 384, 14, 14]               0\n",
            "         Identity-92          [-1, 384, 14, 14]               0\n",
            "    ConvNeXtBlock-93          [-1, 384, 14, 14]               0\n",
            "           Conv2d-94          [-1, 384, 14, 14]          19,200\n",
            "        LayerNorm-95          [-1, 14, 14, 384]             768\n",
            "           Linear-96         [-1, 14, 14, 1536]         591,360\n",
            "             GELU-97         [-1, 14, 14, 1536]               0\n",
            "          Dropout-98         [-1, 14, 14, 1536]               0\n",
            "         Identity-99         [-1, 14, 14, 1536]               0\n",
            "          Linear-100          [-1, 14, 14, 384]         590,208\n",
            "         Dropout-101          [-1, 14, 14, 384]               0\n",
            "             Mlp-102          [-1, 14, 14, 384]               0\n",
            "        Identity-103          [-1, 384, 14, 14]               0\n",
            "        Identity-104          [-1, 384, 14, 14]               0\n",
            "   ConvNeXtBlock-105          [-1, 384, 14, 14]               0\n",
            "          Conv2d-106          [-1, 384, 14, 14]          19,200\n",
            "       LayerNorm-107          [-1, 14, 14, 384]             768\n",
            "          Linear-108         [-1, 14, 14, 1536]         591,360\n",
            "            GELU-109         [-1, 14, 14, 1536]               0\n",
            "         Dropout-110         [-1, 14, 14, 1536]               0\n",
            "        Identity-111         [-1, 14, 14, 1536]               0\n",
            "          Linear-112          [-1, 14, 14, 384]         590,208\n",
            "         Dropout-113          [-1, 14, 14, 384]               0\n",
            "             Mlp-114          [-1, 14, 14, 384]               0\n",
            "        Identity-115          [-1, 384, 14, 14]               0\n",
            "        Identity-116          [-1, 384, 14, 14]               0\n",
            "   ConvNeXtBlock-117          [-1, 384, 14, 14]               0\n",
            "          Conv2d-118          [-1, 384, 14, 14]          19,200\n",
            "       LayerNorm-119          [-1, 14, 14, 384]             768\n",
            "          Linear-120         [-1, 14, 14, 1536]         591,360\n",
            "            GELU-121         [-1, 14, 14, 1536]               0\n",
            "         Dropout-122         [-1, 14, 14, 1536]               0\n",
            "        Identity-123         [-1, 14, 14, 1536]               0\n",
            "          Linear-124          [-1, 14, 14, 384]         590,208\n",
            "         Dropout-125          [-1, 14, 14, 384]               0\n",
            "             Mlp-126          [-1, 14, 14, 384]               0\n",
            "        Identity-127          [-1, 384, 14, 14]               0\n",
            "        Identity-128          [-1, 384, 14, 14]               0\n",
            "   ConvNeXtBlock-129          [-1, 384, 14, 14]               0\n",
            "          Conv2d-130          [-1, 384, 14, 14]          19,200\n",
            "       LayerNorm-131          [-1, 14, 14, 384]             768\n",
            "          Linear-132         [-1, 14, 14, 1536]         591,360\n",
            "            GELU-133         [-1, 14, 14, 1536]               0\n",
            "         Dropout-134         [-1, 14, 14, 1536]               0\n",
            "        Identity-135         [-1, 14, 14, 1536]               0\n",
            "          Linear-136          [-1, 14, 14, 384]         590,208\n",
            "         Dropout-137          [-1, 14, 14, 384]               0\n",
            "             Mlp-138          [-1, 14, 14, 384]               0\n",
            "        Identity-139          [-1, 384, 14, 14]               0\n",
            "        Identity-140          [-1, 384, 14, 14]               0\n",
            "   ConvNeXtBlock-141          [-1, 384, 14, 14]               0\n",
            "          Conv2d-142          [-1, 384, 14, 14]          19,200\n",
            "       LayerNorm-143          [-1, 14, 14, 384]             768\n",
            "          Linear-144         [-1, 14, 14, 1536]         591,360\n",
            "            GELU-145         [-1, 14, 14, 1536]               0\n",
            "         Dropout-146         [-1, 14, 14, 1536]               0\n",
            "        Identity-147         [-1, 14, 14, 1536]               0\n",
            "          Linear-148          [-1, 14, 14, 384]         590,208\n",
            "         Dropout-149          [-1, 14, 14, 384]               0\n",
            "             Mlp-150          [-1, 14, 14, 384]               0\n",
            "        Identity-151          [-1, 384, 14, 14]               0\n",
            "        Identity-152          [-1, 384, 14, 14]               0\n",
            "   ConvNeXtBlock-153          [-1, 384, 14, 14]               0\n",
            "          Conv2d-154          [-1, 384, 14, 14]          19,200\n",
            "       LayerNorm-155          [-1, 14, 14, 384]             768\n",
            "          Linear-156         [-1, 14, 14, 1536]         591,360\n",
            "            GELU-157         [-1, 14, 14, 1536]               0\n",
            "         Dropout-158         [-1, 14, 14, 1536]               0\n",
            "        Identity-159         [-1, 14, 14, 1536]               0\n",
            "          Linear-160          [-1, 14, 14, 384]         590,208\n",
            "         Dropout-161          [-1, 14, 14, 384]               0\n",
            "             Mlp-162          [-1, 14, 14, 384]               0\n",
            "        Identity-163          [-1, 384, 14, 14]               0\n",
            "        Identity-164          [-1, 384, 14, 14]               0\n",
            "   ConvNeXtBlock-165          [-1, 384, 14, 14]               0\n",
            "          Conv2d-166          [-1, 384, 14, 14]          19,200\n",
            "       LayerNorm-167          [-1, 14, 14, 384]             768\n",
            "          Linear-168         [-1, 14, 14, 1536]         591,360\n",
            "            GELU-169         [-1, 14, 14, 1536]               0\n",
            "         Dropout-170         [-1, 14, 14, 1536]               0\n",
            "        Identity-171         [-1, 14, 14, 1536]               0\n",
            "          Linear-172          [-1, 14, 14, 384]         590,208\n",
            "         Dropout-173          [-1, 14, 14, 384]               0\n",
            "             Mlp-174          [-1, 14, 14, 384]               0\n",
            "        Identity-175          [-1, 384, 14, 14]               0\n",
            "        Identity-176          [-1, 384, 14, 14]               0\n",
            "   ConvNeXtBlock-177          [-1, 384, 14, 14]               0\n",
            "          Conv2d-178          [-1, 384, 14, 14]          19,200\n",
            "       LayerNorm-179          [-1, 14, 14, 384]             768\n",
            "          Linear-180         [-1, 14, 14, 1536]         591,360\n",
            "            GELU-181         [-1, 14, 14, 1536]               0\n",
            "         Dropout-182         [-1, 14, 14, 1536]               0\n",
            "        Identity-183         [-1, 14, 14, 1536]               0\n",
            "          Linear-184          [-1, 14, 14, 384]         590,208\n",
            "         Dropout-185          [-1, 14, 14, 384]               0\n",
            "             Mlp-186          [-1, 14, 14, 384]               0\n",
            "        Identity-187          [-1, 384, 14, 14]               0\n",
            "        Identity-188          [-1, 384, 14, 14]               0\n",
            "   ConvNeXtBlock-189          [-1, 384, 14, 14]               0\n",
            "   ConvNeXtStage-190          [-1, 384, 14, 14]               0\n",
            "     LayerNorm2d-191          [-1, 384, 14, 14]             768\n",
            "          Conv2d-192            [-1, 768, 7, 7]       1,180,416\n",
            "          Conv2d-193            [-1, 768, 7, 7]          38,400\n",
            "       LayerNorm-194            [-1, 7, 7, 768]           1,536\n",
            "          Linear-195           [-1, 7, 7, 3072]       2,362,368\n",
            "            GELU-196           [-1, 7, 7, 3072]               0\n",
            "         Dropout-197           [-1, 7, 7, 3072]               0\n",
            "        Identity-198           [-1, 7, 7, 3072]               0\n",
            "          Linear-199            [-1, 7, 7, 768]       2,360,064\n",
            "         Dropout-200            [-1, 7, 7, 768]               0\n",
            "             Mlp-201            [-1, 7, 7, 768]               0\n",
            "        Identity-202            [-1, 768, 7, 7]               0\n",
            "        Identity-203            [-1, 768, 7, 7]               0\n",
            "   ConvNeXtBlock-204            [-1, 768, 7, 7]               0\n",
            "          Conv2d-205            [-1, 768, 7, 7]          38,400\n",
            "       LayerNorm-206            [-1, 7, 7, 768]           1,536\n",
            "          Linear-207           [-1, 7, 7, 3072]       2,362,368\n",
            "            GELU-208           [-1, 7, 7, 3072]               0\n",
            "         Dropout-209           [-1, 7, 7, 3072]               0\n",
            "        Identity-210           [-1, 7, 7, 3072]               0\n",
            "          Linear-211            [-1, 7, 7, 768]       2,360,064\n",
            "         Dropout-212            [-1, 7, 7, 768]               0\n",
            "             Mlp-213            [-1, 7, 7, 768]               0\n",
            "        Identity-214            [-1, 768, 7, 7]               0\n",
            "        Identity-215            [-1, 768, 7, 7]               0\n",
            "   ConvNeXtBlock-216            [-1, 768, 7, 7]               0\n",
            "          Conv2d-217            [-1, 768, 7, 7]          38,400\n",
            "       LayerNorm-218            [-1, 7, 7, 768]           1,536\n",
            "          Linear-219           [-1, 7, 7, 3072]       2,362,368\n",
            "            GELU-220           [-1, 7, 7, 3072]               0\n",
            "         Dropout-221           [-1, 7, 7, 3072]               0\n",
            "        Identity-222           [-1, 7, 7, 3072]               0\n",
            "          Linear-223            [-1, 7, 7, 768]       2,360,064\n",
            "         Dropout-224            [-1, 7, 7, 768]               0\n",
            "             Mlp-225            [-1, 7, 7, 768]               0\n",
            "        Identity-226            [-1, 768, 7, 7]               0\n",
            "        Identity-227            [-1, 768, 7, 7]               0\n",
            "   ConvNeXtBlock-228            [-1, 768, 7, 7]               0\n",
            "   ConvNeXtStage-229            [-1, 768, 7, 7]               0\n",
            "        Identity-230            [-1, 768, 7, 7]               0\n",
            "AdaptiveAvgPool2d-231            [-1, 768, 1, 1]               0\n",
            "        Identity-232            [-1, 768, 1, 1]               0\n",
            "SelectAdaptivePool2d-233            [-1, 768, 1, 1]               0\n",
            "     LayerNorm2d-234            [-1, 768, 1, 1]           1,536\n",
            "         Flatten-235                  [-1, 768]               0\n",
            "        Identity-236                  [-1, 768]               0\n",
            "         Dropout-237                  [-1, 768]               0\n",
            "          Linear-238                    [-1, 4]           3,076\n",
            "NormMlpClassifierHead-239                    [-1, 4]               0\n",
            "================================================================\n",
            "Total params: 27,816,580\n",
            "Trainable params: 27,816,580\n",
            "Non-trainable params: 0\n",
            "----------------------------------------------------------------\n",
            "Input size (MB): 0.57\n",
            "Forward/backward pass size (MB): 410.32\n",
            "Params size (MB): 106.11\n",
            "Estimated Total Size (MB): 517.01\n",
            "----------------------------------------------------------------\n"
          ]
        }
      ],
      "source": [
        "# ======================================================================================\n",
        "# Step 7: Define the ConvNeXt Model\n",
        "# ======================================================================================\n",
        "def create_model(num_classes=4, pretrained=True):\n",
        "    model = timm.create_model('convnext_tiny', pretrained=pretrained)\n",
        "    n_features = model.head.fc.in_features\n",
        "    model.head.fc = nn.Linear(n_features, num_classes)\n",
        "    return model\n",
        "\n",
        "device = torch.device(\"cuda\" if torch.cuda.is_available() else \"cpu\")\n",
        "model = create_model(num_classes=len(class_names)).to(device)\n",
        "\n",
        "print(f\"\\nModel will be trained on: {device}\")\n",
        "print(\"Model Summary:\")\n",
        "summary(model, (3, IMG_SIZE, IMG_SIZE))"
      ]
    },
    {
      "cell_type": "code",
      "execution_count": null,
      "metadata": {
        "id": "j2thHZ--_nWv"
      },
      "outputs": [],
      "source": [
        "# ======================================================================================\n",
        "# Step 8: Training and Validation Loops (CPU Version)\n",
        "# ======================================================================================\n",
        "EPOCHS = 15\n",
        "LEARNING_RATE = 1e-4\n",
        "\n",
        "criterion = nn.CrossEntropyLoss(label_smoothing=0.1)\n",
        "optimizer = optim.AdamW(model.parameters(), lr=LEARNING_RATE)\n",
        "scheduler = optim.lr_scheduler.CosineAnnealingLR(optimizer, T_max=EPOCHS, eta_min=1e-6)\n",
        "# The GradScaler for mixed-precision is removed for CPU training.\n",
        "\n",
        "def train_one_epoch(model, dataloader, criterion, optimizer, device):\n",
        "    model.train()\n",
        "    running_loss = 0.0\n",
        "    correct_predictions = 0\n",
        "    progress_bar = tqdm(dataloader, desc=\"Training\", colour=\"green\")\n",
        "\n",
        "    for inputs, labels in progress_bar:\n",
        "        inputs, labels = inputs.to(device), labels.to(device)\n",
        "\n",
        "        outputs = model(inputs)\n",
        "        loss = criterion(outputs, labels)\n",
        "\n",
        "        optimizer.zero_grad()\n",
        "        loss.backward()\n",
        "        optimizer.step()\n",
        "\n",
        "        running_loss += loss.item() * inputs.size(0)\n",
        "        _, preds = torch.max(outputs, 1)\n",
        "        correct_predictions += torch.sum(preds == labels.data)\n",
        "        progress_bar.set_postfix(loss=loss.item())\n",
        "\n",
        "    epoch_loss = running_loss / len(dataloader.dataset)\n",
        "    epoch_acc = correct_predictions.double() / len(dataloader.dataset)\n",
        "    return epoch_loss, epoch_acc.item()\n",
        "\n",
        "def validate_one_epoch(model, dataloader, criterion, device):\n",
        "    model.eval()\n",
        "    running_loss = 0.0\n",
        "    correct_predictions = 0\n",
        "    progress_bar = tqdm(dataloader, desc=\"Validation\", colour=\"red\")\n",
        "\n",
        "    with torch.no_grad():\n",
        "        for inputs, labels in progress_bar:\n",
        "            inputs, labels = inputs.to(device), labels.to(device)\n",
        "            outputs = model(inputs)\n",
        "            loss = criterion(outputs, labels)\n",
        "\n",
        "            running_loss += loss.item() * inputs.size(0)\n",
        "            _, preds = torch.max(outputs, 1)\n",
        "            correct_predictions += torch.sum(preds == labels.data)\n",
        "\n",
        "    epoch_loss = running_loss / len(dataloader.dataset)\n",
        "    epoch_acc = correct_predictions.double() / len(dataloader.dataset)\n",
        "    return epoch_loss, epoch_acc.item()\n"
      ]
    },
    {
      "cell_type": "code",
      "execution_count": null,
      "metadata": {
        "colab": {
          "base_uri": "https://localhost:8080/"
        },
        "id": "rrREaEmqAU3L",
        "outputId": "76e0eac1-a79a-4ebf-8bc4-a138a6643547"
      },
      "outputs": [
        {
          "metadata": {
            "tags": null
          },
          "name": "stdout",
          "output_type": "stream",
          "text": [
            "\n",
            "Starting model training on CPU... (This will be slow 🐢)\n",
            "--- Epoch 1/15 ---\n"
          ]
        },
        {
          "metadata": {
            "tags": null
          },
          "name": "stderr",
          "output_type": "stream",
          "text": [
            "Training: 100%|\u001b[32m██████████\u001b[0m| 78/78 [26:55<00:00, 20.71s/it, loss=0.546]\n",
            "Validation: 100%|\u001b[31m██████████\u001b[0m| 20/20 [02:04<00:00,  6.22s/it]\n"
          ]
        },
        {
          "metadata": {
            "tags": null
          },
          "name": "stdout",
          "output_type": "stream",
          "text": [
            "Train Loss: 0.7934, Train Acc: 0.7603\n",
            "Val Loss: 0.6027, Val Acc: 0.8670\n",
            "\n",
            "New best model saved with accuracy: 0.8670\n",
            "--- Epoch 2/15 ---\n"
          ]
        },
        {
          "metadata": {
            "tags": null
          },
          "name": "stderr",
          "output_type": "stream",
          "text": [
            "Training: 100%|\u001b[32m██████████\u001b[0m| 78/78 [26:51<00:00, 20.67s/it, loss=0.409]\n",
            "Validation: 100%|\u001b[31m██████████\u001b[0m| 20/20 [02:02<00:00,  6.11s/it]\n"
          ]
        },
        {
          "metadata": {
            "tags": null
          },
          "name": "stdout",
          "output_type": "stream",
          "text": [
            "Train Loss: 0.6010, Train Acc: 0.8669\n",
            "Val Loss: 0.5538, Val Acc: 0.8942\n",
            "\n",
            "New best model saved with accuracy: 0.8942\n",
            "--- Epoch 3/15 ---\n"
          ]
        },
        {
          "metadata": {
            "tags": null
          },
          "name": "stderr",
          "output_type": "stream",
          "text": [
            "Training: 100%|\u001b[32m██████████\u001b[0m| 78/78 [26:51<00:00, 20.66s/it, loss=0.626]\n",
            "Validation: 100%|\u001b[31m██████████\u001b[0m| 20/20 [02:05<00:00,  6.25s/it]\n"
          ]
        },
        {
          "metadata": {
            "tags": null
          },
          "name": "stdout",
          "output_type": "stream",
          "text": [
            "Train Loss: 0.5346, Train Acc: 0.9066\n",
            "Val Loss: 0.5424, Val Acc: 0.9054\n",
            "\n",
            "New best model saved with accuracy: 0.9054\n",
            "--- Epoch 4/15 ---\n"
          ]
        },
        {
          "metadata": {
            "tags": null
          },
          "name": "stderr",
          "output_type": "stream",
          "text": [
            "Training: 100%|\u001b[32m██████████\u001b[0m| 78/78 [26:42<00:00, 20.55s/it, loss=0.708]\n",
            "Validation: 100%|\u001b[31m██████████\u001b[0m| 20/20 [01:59<00:00,  6.00s/it]\n"
          ]
        },
        {
          "metadata": {
            "tags": null
          },
          "name": "stdout",
          "output_type": "stream",
          "text": [
            "Train Loss: 0.5131, Train Acc: 0.9138\n",
            "Val Loss: 0.5250, Val Acc: 0.9071\n",
            "\n",
            "New best model saved with accuracy: 0.9071\n",
            "--- Epoch 5/15 ---\n"
          ]
        },
        {
          "metadata": {
            "tags": null
          },
          "name": "stderr",
          "output_type": "stream",
          "text": [
            "Training: 100%|\u001b[32m██████████\u001b[0m| 78/78 [26:54<00:00, 20.70s/it, loss=0.518]\n",
            "Validation: 100%|\u001b[31m██████████\u001b[0m| 20/20 [02:04<00:00,  6.23s/it]\n"
          ]
        },
        {
          "metadata": {
            "tags": null
          },
          "name": "stdout",
          "output_type": "stream",
          "text": [
            "Train Loss: 0.4714, Train Acc: 0.9375\n",
            "Val Loss: 0.5113, Val Acc: 0.9103\n",
            "\n",
            "New best model saved with accuracy: 0.9103\n",
            "--- Epoch 6/15 ---\n"
          ]
        },
        {
          "metadata": {
            "tags": null
          },
          "name": "stderr",
          "output_type": "stream",
          "text": [
            "Training: 100%|\u001b[32m██████████\u001b[0m| 78/78 [26:41<00:00, 20.54s/it, loss=0.37]\n",
            "Validation: 100%|\u001b[31m██████████\u001b[0m| 20/20 [02:04<00:00,  6.21s/it]\n"
          ]
        },
        {
          "metadata": {
            "tags": null
          },
          "name": "stdout",
          "output_type": "stream",
          "text": [
            "Train Loss: 0.4588, Train Acc: 0.9459\n",
            "Val Loss: 0.5286, Val Acc: 0.8958\n",
            "\n",
            "--- Epoch 7/15 ---\n"
          ]
        },
        {
          "metadata": {
            "tags": null
          },
          "name": "stderr",
          "output_type": "stream",
          "text": [
            "Training: 100%|\u001b[32m██████████\u001b[0m| 78/78 [26:44<00:00, 20.57s/it, loss=0.372]\n",
            "Validation: 100%|\u001b[31m██████████\u001b[0m| 20/20 [02:01<00:00,  6.10s/it]\n"
          ]
        },
        {
          "metadata": {
            "tags": null
          },
          "name": "stdout",
          "output_type": "stream",
          "text": [
            "Train Loss: 0.4266, Train Acc: 0.9639\n",
            "Val Loss: 0.5172, Val Acc: 0.9119\n",
            "\n",
            "New best model saved with accuracy: 0.9119\n",
            "--- Epoch 8/15 ---\n"
          ]
        },
        {
          "metadata": {
            "tags": null
          },
          "name": "stderr",
          "output_type": "stream",
          "text": [
            "Training: 100%|\u001b[32m██████████\u001b[0m| 78/78 [26:46<00:00, 20.60s/it, loss=0.407]\n",
            "Validation: 100%|\u001b[31m██████████\u001b[0m| 20/20 [02:05<00:00,  6.25s/it]\n"
          ]
        },
        {
          "metadata": {
            "tags": null
          },
          "name": "stdout",
          "output_type": "stream",
          "text": [
            "Train Loss: 0.4109, Train Acc: 0.9699\n",
            "Val Loss: 0.5636, Val Acc: 0.9054\n",
            "\n",
            "--- Epoch 9/15 ---\n"
          ]
        },
        {
          "metadata": {
            "tags": null
          },
          "name": "stderr",
          "output_type": "stream",
          "text": [
            "Training: 100%|\u001b[32m██████████\u001b[0m| 78/78 [26:47<00:00, 20.60s/it, loss=0.364]\n",
            "Validation: 100%|\u001b[31m██████████\u001b[0m| 20/20 [02:06<00:00,  6.32s/it]\n"
          ]
        },
        {
          "metadata": {
            "tags": null
          },
          "name": "stdout",
          "output_type": "stream",
          "text": [
            "Train Loss: 0.3893, Train Acc: 0.9824\n",
            "Val Loss: 0.5416, Val Acc: 0.9183\n",
            "\n",
            "New best model saved with accuracy: 0.9183\n",
            "--- Epoch 10/15 ---\n"
          ]
        },
        {
          "metadata": {
            "tags": null
          },
          "name": "stderr",
          "output_type": "stream",
          "text": [
            "Training: 100%|\u001b[32m██████████\u001b[0m| 78/78 [26:43<00:00, 20.56s/it, loss=0.392]\n",
            "Validation: 100%|\u001b[31m██████████\u001b[0m| 20/20 [01:58<00:00,  5.94s/it]\n"
          ]
        },
        {
          "metadata": {
            "tags": null
          },
          "name": "stdout",
          "output_type": "stream",
          "text": [
            "Train Loss: 0.3769, Train Acc: 0.9868\n",
            "Val Loss: 0.5305, Val Acc: 0.9199\n",
            "\n",
            "New best model saved with accuracy: 0.9199\n",
            "--- Epoch 11/15 ---\n"
          ]
        },
        {
          "metadata": {
            "tags": null
          },
          "name": "stderr",
          "output_type": "stream",
          "text": [
            "Training: 100%|\u001b[32m██████████\u001b[0m| 78/78 [26:36<00:00, 20.47s/it, loss=0.377]\n",
            "Validation: 100%|\u001b[31m██████████\u001b[0m| 20/20 [02:04<00:00,  6.25s/it]\n"
          ]
        },
        {
          "metadata": {
            "tags": null
          },
          "name": "stdout",
          "output_type": "stream",
          "text": [
            "Train Loss: 0.3726, Train Acc: 0.9884\n",
            "Val Loss: 0.5142, Val Acc: 0.9263\n",
            "\n",
            "New best model saved with accuracy: 0.9263\n",
            "--- Epoch 12/15 ---\n"
          ]
        },
        {
          "metadata": {
            "tags": null
          },
          "name": "stderr",
          "output_type": "stream",
          "text": [
            "Training: 100%|\u001b[32m██████████\u001b[0m| 78/78 [26:47<00:00, 20.61s/it, loss=0.354]\n",
            "Validation: 100%|\u001b[31m██████████\u001b[0m| 20/20 [02:04<00:00,  6.23s/it]\n"
          ]
        },
        {
          "metadata": {
            "tags": null
          },
          "name": "stdout",
          "output_type": "stream",
          "text": [
            "Train Loss: 0.3627, Train Acc: 0.9928\n",
            "Val Loss: 0.5239, Val Acc: 0.9183\n",
            "\n",
            "--- Epoch 13/15 ---\n"
          ]
        },
        {
          "metadata": {
            "tags": null
          },
          "name": "stderr",
          "output_type": "stream",
          "text": [
            "Training: 100%|\u001b[32m██████████\u001b[0m| 78/78 [26:59<00:00, 20.76s/it, loss=0.352]\n",
            "Validation: 100%|\u001b[31m██████████\u001b[0m| 20/20 [02:00<00:00,  6.01s/it]\n"
          ]
        },
        {
          "metadata": {
            "tags": null
          },
          "name": "stdout",
          "output_type": "stream",
          "text": [
            "Train Loss: 0.3589, Train Acc: 0.9956\n",
            "Val Loss: 0.5234, Val Acc: 0.9215\n",
            "\n",
            "--- Epoch 14/15 ---\n"
          ]
        },
        {
          "metadata": {
            "tags": null
          },
          "name": "stderr",
          "output_type": "stream",
          "text": [
            "Training: 100%|\u001b[32m██████████\u001b[0m| 78/78 [26:43<00:00, 20.56s/it, loss=0.35]\n",
            "Validation: 100%|\u001b[31m██████████\u001b[0m| 20/20 [02:07<00:00,  6.39s/it]\n"
          ]
        },
        {
          "metadata": {
            "tags": null
          },
          "name": "stdout",
          "output_type": "stream",
          "text": [
            "Train Loss: 0.3566, Train Acc: 0.9976\n",
            "Val Loss: 0.5276, Val Acc: 0.9199\n",
            "\n",
            "--- Epoch 15/15 ---\n"
          ]
        },
        {
          "output_type": "stream",
          "name": "stderr",
          "text": [
            "Training:  77%|\u001b[32m███████▋  \u001b[0m| 60/78 [20:36<06:08, 20.46s/it, loss=0.352]"
          ]
        }
      ],
      "source": [
        "# Step 9: Main Training Execution (CPU Version)\n",
        "# ======================================================================================\n",
        "best_val_accuracy = 0.0\n",
        "\n",
        "print(\"\\nStarting model training on CPU... (This will be slow 🐢)\")\n",
        "for epoch in range(EPOCHS):\n",
        "    print(f\"--- Epoch {epoch+1}/{EPOCHS} ---\")\n",
        "\n",
        "    train_loss, train_acc = train_one_epoch(model, train_loader, criterion, optimizer, device)\n",
        "    val_loss, val_acc = validate_one_epoch(model, val_loader, criterion, device)\n",
        "\n",
        "    scheduler.step()\n",
        "\n",
        "    print(f\"Train Loss: {train_loss:.4f}, Train Acc: {train_acc:.4f}\")\n",
        "    print(f\"Val Loss: {val_loss:.4f}, Val Acc: {val_acc:.4f}\\n\")\n",
        "\n",
        "    if val_acc > best_val_accuracy:\n",
        "        best_val_accuracy = val_acc\n",
        "        torch.save(model.state_dict(), 'best_model_cpu.pth')\n",
        "        print(f\"New best model saved with accuracy: {best_val_accuracy:.4f}\")\n",
        "\n",
        "print(\"Training finished!\")\n",
        "print(f\"Best Validation Accuracy: {best_val_accuracy:.4f}\")"
      ]
    },
    {
      "cell_type": "code",
      "execution_count": null,
      "metadata": {
        "id": "mNAklGfYAdAy"
      },
      "outputs": [],
      "source": []
    }
  ],
  "metadata": {
    "colab": {
      "provenance": [],
      "authorship_tag": "ABX9TyPOuhVVdrci+cAwN1W3EuJz",
      "include_colab_link": true
    },
    "kernelspec": {
      "display_name": "Python 3",
      "name": "python3"
    },
    "language_info": {
      "name": "python"
    },
    "widgets": {
      "application/vnd.jupyter.widget-state+json": {
        "0175b76643dc45cb9fc0cf86237ac422": {
          "model_module": "@jupyter-widgets/base",
          "model_module_version": "1.2.0",
          "model_name": "LayoutModel",
          "state": {
            "_model_module": "@jupyter-widgets/base",
            "_model_module_version": "1.2.0",
            "_model_name": "LayoutModel",
            "_view_count": null,
            "_view_module": "@jupyter-widgets/base",
            "_view_module_version": "1.2.0",
            "_view_name": "LayoutView",
            "align_content": null,
            "align_items": null,
            "align_self": null,
            "border": null,
            "bottom": null,
            "display": null,
            "flex": null,
            "flex_flow": null,
            "grid_area": null,
            "grid_auto_columns": null,
            "grid_auto_flow": null,
            "grid_auto_rows": null,
            "grid_column": null,
            "grid_gap": null,
            "grid_row": null,
            "grid_template_areas": null,
            "grid_template_columns": null,
            "grid_template_rows": null,
            "height": null,
            "justify_content": null,
            "justify_items": null,
            "left": null,
            "margin": null,
            "max_height": null,
            "max_width": null,
            "min_height": null,
            "min_width": null,
            "object_fit": null,
            "object_position": null,
            "order": null,
            "overflow": null,
            "overflow_x": null,
            "overflow_y": null,
            "padding": null,
            "right": null,
            "top": null,
            "visibility": null,
            "width": null
          }
        },
        "0869c2ff1f3147e6b47ef3a346b9923f": {
          "model_module": "@jupyter-widgets/controls",
          "model_module_version": "1.5.0",
          "model_name": "DescriptionStyleModel",
          "state": {
            "_model_module": "@jupyter-widgets/controls",
            "_model_module_version": "1.5.0",
            "_model_name": "DescriptionStyleModel",
            "_view_count": null,
            "_view_module": "@jupyter-widgets/base",
            "_view_module_version": "1.2.0",
            "_view_name": "StyleView",
            "description_width": ""
          }
        },
        "22e4632e98a240b5b3299da97d2e97d6": {
          "model_module": "@jupyter-widgets/controls",
          "model_module_version": "1.5.0",
          "model_name": "HBoxModel",
          "state": {
            "_dom_classes": [],
            "_model_module": "@jupyter-widgets/controls",
            "_model_module_version": "1.5.0",
            "_model_name": "HBoxModel",
            "_view_count": null,
            "_view_module": "@jupyter-widgets/controls",
            "_view_module_version": "1.5.0",
            "_view_name": "HBoxView",
            "box_style": "",
            "children": [
              "IPY_MODEL_707832e0c6ae472fa072506504f79c05",
              "IPY_MODEL_6a70a79da2784d60a26661345173b20e",
              "IPY_MODEL_3f01f14ad3e449e7b6c044cb0e974853"
            ],
            "layout": "IPY_MODEL_3cbfc0335a614f4990354d239aaf2577"
          }
        },
        "3cbfc0335a614f4990354d239aaf2577": {
          "model_module": "@jupyter-widgets/base",
          "model_module_version": "1.2.0",
          "model_name": "LayoutModel",
          "state": {
            "_model_module": "@jupyter-widgets/base",
            "_model_module_version": "1.2.0",
            "_model_name": "LayoutModel",
            "_view_count": null,
            "_view_module": "@jupyter-widgets/base",
            "_view_module_version": "1.2.0",
            "_view_name": "LayoutView",
            "align_content": null,
            "align_items": null,
            "align_self": null,
            "border": null,
            "bottom": null,
            "display": null,
            "flex": null,
            "flex_flow": null,
            "grid_area": null,
            "grid_auto_columns": null,
            "grid_auto_flow": null,
            "grid_auto_rows": null,
            "grid_column": null,
            "grid_gap": null,
            "grid_row": null,
            "grid_template_areas": null,
            "grid_template_columns": null,
            "grid_template_rows": null,
            "height": null,
            "justify_content": null,
            "justify_items": null,
            "left": null,
            "margin": null,
            "max_height": null,
            "max_width": null,
            "min_height": null,
            "min_width": null,
            "object_fit": null,
            "object_position": null,
            "order": null,
            "overflow": null,
            "overflow_x": null,
            "overflow_y": null,
            "padding": null,
            "right": null,
            "top": null,
            "visibility": null,
            "width": null
          }
        },
        "3e015104615840a89aae709dfffda699": {
          "model_module": "@jupyter-widgets/controls",
          "model_module_version": "1.5.0",
          "model_name": "DescriptionStyleModel",
          "state": {
            "_model_module": "@jupyter-widgets/controls",
            "_model_module_version": "1.5.0",
            "_model_name": "DescriptionStyleModel",
            "_view_count": null,
            "_view_module": "@jupyter-widgets/base",
            "_view_module_version": "1.2.0",
            "_view_name": "StyleView",
            "description_width": ""
          }
        },
        "3f01f14ad3e449e7b6c044cb0e974853": {
          "model_module": "@jupyter-widgets/controls",
          "model_module_version": "1.5.0",
          "model_name": "HTMLModel",
          "state": {
            "_dom_classes": [],
            "_model_module": "@jupyter-widgets/controls",
            "_model_module_version": "1.5.0",
            "_model_name": "HTMLModel",
            "_view_count": null,
            "_view_module": "@jupyter-widgets/controls",
            "_view_module_version": "1.5.0",
            "_view_name": "HTMLView",
            "description": "",
            "description_tooltip": null,
            "layout": "IPY_MODEL_0175b76643dc45cb9fc0cf86237ac422",
            "placeholder": "​",
            "style": "IPY_MODEL_0869c2ff1f3147e6b47ef3a346b9923f",
            "value": " 114M/114M [00:00&lt;00:00, 362MB/s]"
          }
        },
        "4505a80167424983b34602c04b6f1eca": {
          "model_module": "@jupyter-widgets/base",
          "model_module_version": "1.2.0",
          "model_name": "LayoutModel",
          "state": {
            "_model_module": "@jupyter-widgets/base",
            "_model_module_version": "1.2.0",
            "_model_name": "LayoutModel",
            "_view_count": null,
            "_view_module": "@jupyter-widgets/base",
            "_view_module_version": "1.2.0",
            "_view_name": "LayoutView",
            "align_content": null,
            "align_items": null,
            "align_self": null,
            "border": null,
            "bottom": null,
            "display": null,
            "flex": null,
            "flex_flow": null,
            "grid_area": null,
            "grid_auto_columns": null,
            "grid_auto_flow": null,
            "grid_auto_rows": null,
            "grid_column": null,
            "grid_gap": null,
            "grid_row": null,
            "grid_template_areas": null,
            "grid_template_columns": null,
            "grid_template_rows": null,
            "height": null,
            "justify_content": null,
            "justify_items": null,
            "left": null,
            "margin": null,
            "max_height": null,
            "max_width": null,
            "min_height": null,
            "min_width": null,
            "object_fit": null,
            "object_position": null,
            "order": null,
            "overflow": null,
            "overflow_x": null,
            "overflow_y": null,
            "padding": null,
            "right": null,
            "top": null,
            "visibility": null,
            "width": null
          }
        },
        "6a70a79da2784d60a26661345173b20e": {
          "model_module": "@jupyter-widgets/controls",
          "model_module_version": "1.5.0",
          "model_name": "FloatProgressModel",
          "state": {
            "_dom_classes": [],
            "_model_module": "@jupyter-widgets/controls",
            "_model_module_version": "1.5.0",
            "_model_name": "FloatProgressModel",
            "_view_count": null,
            "_view_module": "@jupyter-widgets/controls",
            "_view_module_version": "1.5.0",
            "_view_name": "ProgressView",
            "bar_style": "success",
            "description": "",
            "description_tooltip": null,
            "layout": "IPY_MODEL_4505a80167424983b34602c04b6f1eca",
            "max": 114374272,
            "min": 0,
            "orientation": "horizontal",
            "style": "IPY_MODEL_82a01604b4304a6cb9c919a27ed4a56a",
            "value": 114374272
          }
        },
        "707832e0c6ae472fa072506504f79c05": {
          "model_module": "@jupyter-widgets/controls",
          "model_module_version": "1.5.0",
          "model_name": "HTMLModel",
          "state": {
            "_dom_classes": [],
            "_model_module": "@jupyter-widgets/controls",
            "_model_module_version": "1.5.0",
            "_model_name": "HTMLModel",
            "_view_count": null,
            "_view_module": "@jupyter-widgets/controls",
            "_view_module_version": "1.5.0",
            "_view_name": "HTMLView",
            "description": "",
            "description_tooltip": null,
            "layout": "IPY_MODEL_e431bbdde65e4c2a825e8af2533fb53b",
            "placeholder": "​",
            "style": "IPY_MODEL_3e015104615840a89aae709dfffda699",
            "value": "model.safetensors: 100%"
          }
        },
        "82a01604b4304a6cb9c919a27ed4a56a": {
          "model_module": "@jupyter-widgets/controls",
          "model_module_version": "1.5.0",
          "model_name": "ProgressStyleModel",
          "state": {
            "_model_module": "@jupyter-widgets/controls",
            "_model_module_version": "1.5.0",
            "_model_name": "ProgressStyleModel",
            "_view_count": null,
            "_view_module": "@jupyter-widgets/base",
            "_view_module_version": "1.2.0",
            "_view_name": "StyleView",
            "bar_color": null,
            "description_width": ""
          }
        },
        "e431bbdde65e4c2a825e8af2533fb53b": {
          "model_module": "@jupyter-widgets/base",
          "model_module_version": "1.2.0",
          "model_name": "LayoutModel",
          "state": {
            "_model_module": "@jupyter-widgets/base",
            "_model_module_version": "1.2.0",
            "_model_name": "LayoutModel",
            "_view_count": null,
            "_view_module": "@jupyter-widgets/base",
            "_view_module_version": "1.2.0",
            "_view_name": "LayoutView",
            "align_content": null,
            "align_items": null,
            "align_self": null,
            "border": null,
            "bottom": null,
            "display": null,
            "flex": null,
            "flex_flow": null,
            "grid_area": null,
            "grid_auto_columns": null,
            "grid_auto_flow": null,
            "grid_auto_rows": null,
            "grid_column": null,
            "grid_gap": null,
            "grid_row": null,
            "grid_template_areas": null,
            "grid_template_columns": null,
            "grid_template_rows": null,
            "height": null,
            "justify_content": null,
            "justify_items": null,
            "left": null,
            "margin": null,
            "max_height": null,
            "max_width": null,
            "min_height": null,
            "min_width": null,
            "object_fit": null,
            "object_position": null,
            "order": null,
            "overflow": null,
            "overflow_x": null,
            "overflow_y": null,
            "padding": null,
            "right": null,
            "top": null,
            "visibility": null,
            "width": null
          }
        }
      }
    }
  },
  "nbformat": 4,
  "nbformat_minor": 0
}